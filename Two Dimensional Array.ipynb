{
 "cells": [
  {
   "cell_type": "markdown",
   "id": "106d7274",
   "metadata": {},
   "source": [
    "### Two Dimensional Array"
   ]
  },
  {
   "cell_type": "code",
   "execution_count": 6,
   "id": "53e91658",
   "metadata": {},
   "outputs": [],
   "source": [
    "import numpy as np"
   ]
  },
  {
   "cell_type": "code",
   "execution_count": 8,
   "id": "c361b628",
   "metadata": {},
   "outputs": [
    {
     "data": {
      "text/plain": [
       "array([[67, 78, 89, 67],\n",
       "       [25, 35, 45, 55],\n",
       "       [47, 57, 67, 77]])"
      ]
     },
     "execution_count": 8,
     "metadata": {},
     "output_type": "execute_result"
    }
   ],
   "source": [
    "simple_matrix=np.array([[67,78,89,67],[25,35,45,55],[47,57,67,77]])\n",
    "simple_matrix"
   ]
  },
  {
   "cell_type": "code",
   "execution_count": 9,
   "id": "8ee80384",
   "metadata": {},
   "outputs": [
    {
     "data": {
      "text/plain": [
       "array([47, 57, 67, 77])"
      ]
     },
     "execution_count": 9,
     "metadata": {},
     "output_type": "execute_result"
    }
   ],
   "source": [
    "simple_matrix[2,:]"
   ]
  },
  {
   "cell_type": "code",
   "execution_count": 11,
   "id": "a5702727",
   "metadata": {},
   "outputs": [
    {
     "data": {
      "text/plain": [
       "67"
      ]
     },
     "execution_count": 11,
     "metadata": {},
     "output_type": "execute_result"
    }
   ],
   "source": [
    "simple_matrix[2,2]"
   ]
  },
  {
   "cell_type": "code",
   "execution_count": 13,
   "id": "b7643aaa",
   "metadata": {},
   "outputs": [
    {
     "data": {
      "text/plain": [
       "array([[89, 67],\n",
       "       [45, 55],\n",
       "       [67, 77]])"
      ]
     },
     "execution_count": 13,
     "metadata": {},
     "output_type": "execute_result"
    }
   ],
   "source": [
    "simple_matrix[:,(2,3)]"
   ]
  },
  {
   "cell_type": "markdown",
   "id": "8271ebb9",
   "metadata": {},
   "source": [
    "### Simple_Array in numpy"
   ]
  },
  {
   "cell_type": "code",
   "execution_count": 15,
   "id": "df7f2b2b",
   "metadata": {},
   "outputs": [
    {
     "data": {
      "text/plain": [
       "array([ 1,  2,  3,  4,  5,  6,  7,  8,  9, 10, 11, 12, 13, 14, 15, 16, 17,\n",
       "       18, 19])"
      ]
     },
     "execution_count": 15,
     "metadata": {},
     "output_type": "execute_result"
    }
   ],
   "source": [
    "simple_array=np.arange(1,20)\n",
    "simple_array"
   ]
  },
  {
   "cell_type": "code",
   "execution_count": 16,
   "id": "2fd8d3ad",
   "metadata": {},
   "outputs": [
    {
     "data": {
      "text/plain": [
       "array([ 2,  4,  6,  8, 10, 12, 14, 16, 18, 20, 22, 24, 26, 28, 30, 32, 34,\n",
       "       36, 38])"
      ]
     },
     "execution_count": 16,
     "metadata": {},
     "output_type": "execute_result"
    }
   ],
   "source": [
    "simple_array+simple_array"
   ]
  },
  {
   "cell_type": "code",
   "execution_count": 18,
   "id": "5f8ae139",
   "metadata": {},
   "outputs": [
    {
     "data": {
      "text/plain": [
       "array([2.71828183e+00, 7.38905610e+00, 2.00855369e+01, 5.45981500e+01,\n",
       "       1.48413159e+02, 4.03428793e+02, 1.09663316e+03, 2.98095799e+03,\n",
       "       8.10308393e+03, 2.20264658e+04, 5.98741417e+04, 1.62754791e+05,\n",
       "       4.42413392e+05, 1.20260428e+06, 3.26901737e+06, 8.88611052e+06,\n",
       "       2.41549528e+07, 6.56599691e+07, 1.78482301e+08])"
      ]
     },
     "execution_count": 18,
     "metadata": {},
     "output_type": "execute_result"
    }
   ],
   "source": [
    "np.exp(simple_array)"
   ]
  },
  {
   "cell_type": "code",
   "execution_count": 19,
   "id": "d2cada18",
   "metadata": {},
   "outputs": [
    {
     "data": {
      "text/plain": [
       "array([  1,   4,   9,  16,  25,  36,  49,  64,  81, 100, 121, 144, 169,\n",
       "       196, 225, 256, 289, 324, 361])"
      ]
     },
     "execution_count": 19,
     "metadata": {},
     "output_type": "execute_result"
    }
   ],
   "source": [
    "np.square(simple_array)"
   ]
  },
  {
   "cell_type": "code",
   "execution_count": 20,
   "id": "97c24263",
   "metadata": {},
   "outputs": [
    {
     "data": {
      "text/plain": [
       "1"
      ]
     },
     "execution_count": 20,
     "metadata": {},
     "output_type": "execute_result"
    }
   ],
   "source": [
    "np.min(simple_array)"
   ]
  },
  {
   "cell_type": "code",
   "execution_count": 21,
   "id": "7e47f8cf",
   "metadata": {},
   "outputs": [
    {
     "data": {
      "text/plain": [
       "19"
      ]
     },
     "execution_count": 21,
     "metadata": {},
     "output_type": "execute_result"
    }
   ],
   "source": [
    "np.max(simple_array)"
   ]
  },
  {
   "cell_type": "code",
   "execution_count": 22,
   "id": "4d96c946",
   "metadata": {},
   "outputs": [
    {
     "data": {
      "text/plain": [
       "18"
      ]
     },
     "execution_count": 22,
     "metadata": {},
     "output_type": "execute_result"
    }
   ],
   "source": [
    "np.argmax(simple_array)"
   ]
  },
  {
   "cell_type": "code",
   "execution_count": 23,
   "id": "84d6c33f",
   "metadata": {},
   "outputs": [
    {
     "data": {
      "text/plain": [
       "array([1.        , 1.41421356, 1.73205081, 2.        , 2.23606798,\n",
       "       2.44948974, 2.64575131, 2.82842712, 3.        , 3.16227766,\n",
       "       3.31662479, 3.46410162, 3.60555128, 3.74165739, 3.87298335,\n",
       "       4.        , 4.12310563, 4.24264069, 4.35889894])"
      ]
     },
     "execution_count": 23,
     "metadata": {},
     "output_type": "execute_result"
    }
   ],
   "source": [
    "np.sqrt(simple_array)\n"
   ]
  },
  {
   "cell_type": "code",
   "execution_count": 24,
   "id": "f93409d3",
   "metadata": {},
   "outputs": [
    {
     "data": {
      "text/plain": [
       "30.0"
      ]
     },
     "execution_count": 24,
     "metadata": {},
     "output_type": "execute_result"
    }
   ],
   "source": [
    "np.var(simple_array)"
   ]
  },
  {
   "cell_type": "code",
   "execution_count": 25,
   "id": "8f08cd97",
   "metadata": {},
   "outputs": [
    {
     "data": {
      "text/plain": [
       "190"
      ]
     },
     "execution_count": 25,
     "metadata": {},
     "output_type": "execute_result"
    }
   ],
   "source": [
    "np.sum(simple_array)"
   ]
  },
  {
   "cell_type": "code",
   "execution_count": 26,
   "id": "94cc4e10",
   "metadata": {},
   "outputs": [
    {
     "data": {
      "text/plain": [
       "10.0"
      ]
     },
     "execution_count": 26,
     "metadata": {},
     "output_type": "execute_result"
    }
   ],
   "source": [
    "np.mean(simple_array)"
   ]
  },
  {
   "cell_type": "code",
   "execution_count": 27,
   "id": "eb987769",
   "metadata": {},
   "outputs": [
    {
     "data": {
      "text/plain": [
       "array([0.        , 0.69314718, 1.09861229, 1.38629436, 1.60943791,\n",
       "       1.79175947, 1.94591015, 2.07944154, 2.19722458, 2.30258509,\n",
       "       2.39789527, 2.48490665, 2.56494936, 2.63905733, 2.7080502 ,\n",
       "       2.77258872, 2.83321334, 2.89037176, 2.94443898])"
      ]
     },
     "execution_count": 27,
     "metadata": {},
     "output_type": "execute_result"
    }
   ],
   "source": [
    "np.log(simple_array)"
   ]
  },
  {
   "cell_type": "code",
   "execution_count": 39,
   "id": "a2aadaa6",
   "metadata": {},
   "outputs": [
    {
     "data": {
      "text/plain": [
       "array([[0.14557298, 0.99787863, 0.22341602, 0.51918018],\n",
       "       [0.21477829, 0.02344473, 0.87256146, 0.29142756],\n",
       "       [0.21139085, 0.37503363, 0.56111506, 0.67128518]])"
      ]
     },
     "execution_count": 39,
     "metadata": {},
     "output_type": "execute_result"
    }
   ],
   "source": [
    "array=np.random.rand(3,4)\n",
    "array"
   ]
  },
  {
   "cell_type": "code",
   "execution_count": 41,
   "id": "c7e45f62",
   "metadata": {},
   "outputs": [
    {
     "data": {
      "text/plain": [
       "array([[0.15, 1.  , 0.22, 0.52],\n",
       "       [0.21, 0.02, 0.87, 0.29],\n",
       "       [0.21, 0.38, 0.56, 0.67]])"
      ]
     },
     "execution_count": 41,
     "metadata": {},
     "output_type": "execute_result"
    }
   ],
   "source": [
    "np.round(array,decimals=2)"
   ]
  },
  {
   "cell_type": "code",
   "execution_count": 43,
   "id": "671016f0",
   "metadata": {},
   "outputs": [
    {
     "data": {
      "text/plain": [
       "array(['nanda', 'rajesh', 'sangamesh', 'shashikanth', 'uthkarsh', 'vivek'],\n",
       "      dtype='<U11')"
      ]
     },
     "execution_count": 43,
     "metadata": {},
     "output_type": "execute_result"
    }
   ],
   "source": [
    "friends=np.array([\"rajesh\",\"shashikanth\",\"uthkarsh\",\"sangamesh\",\"nanda\",\"vivek\",\"nanda\",\"vivek\"])\n",
    "np.unique(friends)"
   ]
  },
  {
   "cell_type": "code",
   "execution_count": null,
   "id": "4720a1c3",
   "metadata": {},
   "outputs": [],
   "source": []
  }
 ],
 "metadata": {
  "kernelspec": {
   "display_name": "Python 3 (ipykernel)",
   "language": "python",
   "name": "python3"
  },
  "language_info": {
   "codemirror_mode": {
    "name": "ipython",
    "version": 3
   },
   "file_extension": ".py",
   "mimetype": "text/x-python",
   "name": "python",
   "nbconvert_exporter": "python",
   "pygments_lexer": "ipython3",
   "version": "3.11.5"
  }
 },
 "nbformat": 4,
 "nbformat_minor": 5
}
